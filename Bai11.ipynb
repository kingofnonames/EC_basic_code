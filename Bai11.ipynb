{
 "cells": [
  {
   "cell_type": "markdown",
   "id": "83862bd3",
   "metadata": {},
   "source": [
    "## Bài 11: Ant Colony Optimization (ACO)"
   ]
  },
  {
   "cell_type": "markdown",
   "id": "a765fca2",
   "metadata": {},
   "source": [
    "### Cài đặt ACO giải bài toán TSP"
   ]
  },
  {
   "cell_type": "code",
   "execution_count": 2,
   "id": "3932295e",
   "metadata": {},
   "outputs": [],
   "source": [
    "import numpy as np\n",
    "import random\n",
    "random.seed(42)"
   ]
  },
  {
   "cell_type": "code",
   "execution_count": 3,
   "id": "f0dfdbac",
   "metadata": {},
   "outputs": [],
   "source": [
    "def distance_matrix(coords):\n",
    "    n = len(coords)\n",
    "    dmat = np.zeros((n, n))\n",
    "    for i in range(n):\n",
    "        for j in range(i + 1, n):\n",
    "            dmat[i, j] = dmat[j, i] = np.linalg.norm(np.array(coords[i]) - np.array(coords[j]))\n",
    "    return dmat\n",
    "\n",
    "def tour_length(tour, dmat):\n",
    "    return np.sum(dmat[tour[i], tour[(i + 1) % len(tour)]] for i in range(len(tour)))\n",
    "\n",
    "class ACO_TSP:\n",
    "    def __init__(self, dist_matrix, n_ants=20, n_iter=1000, alpha=1, beta=5, rho=0.5, Q=100):\n",
    "        self.dist_matrix = dist_matrix\n",
    "        self.n = dist_matrix.shape[0]\n",
    "        self.n_ants = n_ants\n",
    "        self.n_iter = n_iter\n",
    "        self.alpha = alpha\n",
    "        self.beta = beta\n",
    "        self.rho = rho\n",
    "        self.Q = Q\n",
    "        self.pheromone = np.ones((self.n, self.n))\n",
    "        self.eta = 1 / (dist_matrix + 1e-10)\n",
    "\n",
    "    def run(self):\n",
    "        best_tour = None\n",
    "        best_len = float(\"inf\")\n",
    "        for it in range(self.n_iter):\n",
    "            all_tours = []\n",
    "            all_lengths = []\n",
    "            for ant in range(self.n_ants):\n",
    "                start = random.randint(0, self.n-1)\n",
    "                tour = [start]\n",
    "                visited = set(tour)\n",
    "                for _ in range(self.n - 1):\n",
    "                    i = tour[-1]\n",
    "                    probs = []\n",
    "                    denom = 0\n",
    "                    for j in range(self.n):\n",
    "                        if j not in visited:\n",
    "                            denom += (self.pheromone[i][j] ** self.alpha) * \\\n",
    "                                (self.eta[i][j] ** self.beta)\n",
    "                    for j in range(self.n):\n",
    "                        if j not in visited:\n",
    "                            prob = (\n",
    "                                (self.pheromone[i][j] ** self.alpha) * (self.eta[i][j] ** self.beta)) / denom\n",
    "                            probs.append((j, prob))\n",
    "                    r = random.random()\n",
    "                    cum = 0\n",
    "                    for j, p in probs:\n",
    "                        cum += p\n",
    "                        if r <= cum:\n",
    "                            tour.append(j)\n",
    "                            visited.add(j)\n",
    "                            break\n",
    "                tour.append(start)\n",
    "                length = tour_length(tour, self.dist_matrix)\n",
    "                all_tours.append(tour)\n",
    "                all_lengths.append(length)\n",
    "                if length < best_len:\n",
    "                    best_tour, best_len = tour, length\n",
    "            self.pheromone *= (1 - self.rho)\n",
    "            for k, tour in enumerate(all_tours):\n",
    "                Lk = all_lengths[k]\n",
    "                for i in range(len(tour)-1):\n",
    "                    a, b = tour[i], tour[i+1]\n",
    "                    self.pheromone[a][b] += self.Q / Lk\n",
    "                    self.pheromone[b][a] += self.Q / Lk\n",
    "            print(f\"{it+1}/{self.n_iter}: {best_len:.2f}\")\n",
    "        return best_tour, best_len"
   ]
  },
  {
   "cell_type": "code",
   "execution_count": 4,
   "id": "94246180",
   "metadata": {},
   "outputs": [
    {
     "name": "stderr",
     "output_type": "stream",
     "text": [
      "C:\\Users\\quoca\\AppData\\Local\\Temp\\ipykernel_34592\\2213844631.py:10: DeprecationWarning: Calling np.sum(generator) is deprecated, and in the future will give a different result. Use np.sum(np.fromiter(generator)) or the python sum builtin instead.\n",
      "  return np.sum(dmat[tour[i], tour[(i + 1) % len(tour)]] for i in range(len(tour)))\n"
     ]
    },
    {
     "name": "stdout",
     "output_type": "stream",
     "text": [
      "1/50: 431.24\n",
      "2/50: 431.24\n",
      "3/50: 431.24\n",
      "4/50: 431.24\n",
      "5/50: 431.24\n",
      "6/50: 431.24\n",
      "7/50: 431.24\n",
      "8/50: 429.39\n",
      "9/50: 425.89\n",
      "10/50: 425.89\n",
      "11/50: 425.89\n",
      "12/50: 425.89\n",
      "13/50: 425.89\n",
      "14/50: 425.89\n",
      "15/50: 425.89\n",
      "16/50: 425.89\n",
      "17/50: 425.89\n",
      "18/50: 425.89\n",
      "19/50: 425.89\n",
      "20/50: 425.89\n",
      "21/50: 425.89\n",
      "22/50: 425.89\n",
      "23/50: 425.89\n",
      "24/50: 425.89\n",
      "25/50: 425.89\n",
      "26/50: 425.89\n",
      "27/50: 425.89\n",
      "28/50: 425.89\n",
      "29/50: 425.89\n",
      "30/50: 425.89\n",
      "31/50: 425.89\n",
      "32/50: 425.89\n",
      "33/50: 425.89\n",
      "34/50: 425.89\n",
      "35/50: 425.89\n",
      "36/50: 425.89\n",
      "37/50: 425.89\n",
      "38/50: 425.89\n",
      "39/50: 425.89\n",
      "40/50: 425.89\n",
      "41/50: 425.89\n",
      "42/50: 425.89\n",
      "43/50: 425.89\n",
      "44/50: 425.89\n",
      "45/50: 425.89\n",
      "46/50: 425.89\n",
      "47/50: 425.89\n",
      "48/50: 425.89\n",
      "49/50: 425.89\n",
      "50/50: 425.89\n",
      "\n",
      "Kết quả tối ưu:\n",
      "Best sol: [16, 26, 28, 8, 5, 29, 23, 22, 6, 13, 21, 1, 25, 11, 4, 0, 20, 9, 3, 12, 19, 14, 18, 10, 15, 2, 27, 7, 24, 17, 16]\n",
      "Best length: 425.88546516482023\n"
     ]
    }
   ],
   "source": [
    "coords = [(random.random()*100, random.random()*100) for _ in range(30)]\n",
    "dist_matrix = distance_matrix(coords)\n",
    "aco = ACO_TSP(dist_matrix, n_ants=20, n_iter=50)\n",
    "best_tour, best_len = aco.run()\n",
    "\n",
    "print(\"\\nKết quả tối ưu:\")\n",
    "print(\"Best sol:\", best_tour)\n",
    "print(\"Best length:\", best_len)"
   ]
  },
  {
   "cell_type": "code",
   "execution_count": null,
   "id": "d14a890a",
   "metadata": {},
   "outputs": [],
   "source": []
  }
 ],
 "metadata": {
  "kernelspec": {
   "display_name": "Python 3",
   "language": "python",
   "name": "python3"
  },
  "language_info": {
   "codemirror_mode": {
    "name": "ipython",
    "version": 3
   },
   "file_extension": ".py",
   "mimetype": "text/x-python",
   "name": "python",
   "nbconvert_exporter": "python",
   "pygments_lexer": "ipython3",
   "version": "3.11.7"
  }
 },
 "nbformat": 4,
 "nbformat_minor": 5
}
