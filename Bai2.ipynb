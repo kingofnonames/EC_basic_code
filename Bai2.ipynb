{
 "cells": [
  {
   "cell_type": "markdown",
   "id": "36fb7b34",
   "metadata": {},
   "source": [
    "## Bài 2: Nguyên lý tiến hóa"
   ]
  },
  {
   "cell_type": "markdown",
   "id": "1ad3b292",
   "metadata": {},
   "source": [
    "### Cài đặt chương trình với các bước sau:\n",
    "Khởi tạo quẩn thể nhị phân: quẩn thể gồm 6 cá thể, mỗi cá thể độ dài là 7\n",
    "\n",
    "Tính fitness: fitness là số bit 1 trong cá thể\n",
    "\n",
    "Chọn lọc: Tournament selection (chọn 2 cá thể ngẫu nhiên, giữ cá thể có \n",
    "fitness cao hơn). Thực hiện chọn 3 lần.\n",
    "\n",
    "Lai ghép: Chọn 2 cá thể cha và thực hiện 1-point crossover tại vị trí ngẫu nhiên.\n",
    "\n",
    "Đột biến: Lật ngẫu nhiên 1 bit trong cá thể con.\n"
   ]
  },
  {
   "cell_type": "code",
   "execution_count": 1,
   "id": "c0fa9acf",
   "metadata": {},
   "outputs": [],
   "source": [
    "import numpy as np"
   ]
  },
  {
   "cell_type": "code",
   "execution_count": 20,
   "id": "959f5cf6",
   "metadata": {},
   "outputs": [],
   "source": [
    "def initialize_pop(pop_size=6, len_pop=7):\n",
    "    return np.random.choice([0, 1], (pop_size, len_pop))\n",
    "\n",
    "def fitness(pop):\n",
    "    return np.sum(pop)\n",
    "\n",
    "\n",
    "def tournament_selection(pops, num_selections=3):\n",
    "    winners = []\n",
    "    for _ in range(num_selections):\n",
    "        idxs = np.random.choice(len(pops), 2, replace=False)\n",
    "        ind1, ind2 = pops[idxs[0]], pops[idxs[1]]\n",
    "        winner = ind1 if fitness(ind1) >= fitness(ind2) else ind2\n",
    "        winners.append(winner.copy())\n",
    "    return winners\n",
    "\n",
    "\n",
    "def mutate(ind):\n",
    "    idx = np.random.randint(len(ind))\n",
    "    ind[idx] = 1 - ind[idx]\n",
    "    return ind\n",
    "\n",
    "def crossover(par1, par2):\n",
    "    point = np.random.randint(1, len(par1))\n",
    "    child1 = np.concatenate([par1[:point], par2[point:]])\n",
    "    child2 = np.concatenate([par2[:point], par1[point:]])\n",
    "    return child1, child2, point"
   ]
  },
  {
   "cell_type": "code",
   "execution_count": 21,
   "id": "5020029d",
   "metadata": {},
   "outputs": [
    {
     "name": "stdout",
     "output_type": "stream",
     "text": [
      "Quần thể ban đầu:\n",
      "[0 1 0 0 0 1 0] Fitness: 2\n",
      "[0 0 1 0 0 0 0] Fitness: 1\n",
      "[1 0 1 1 1 0 1] Fitness: 5\n",
      "[0 1 1 1 1 1 1] Fitness: 6\n",
      "[1 1 0 0 1 1 1] Fitness: 5\n",
      "[0 1 0 0 0 0 0] Fitness: 1\n",
      "\n",
      "Các cá thể được chọn (winners):\n",
      "[0 1 0 0 0 1 0] Fitness: 2\n",
      "[0 1 0 0 0 1 0] Fitness: 2\n",
      "[0 1 1 1 1 1 1] Fitness: 6\n",
      "\n",
      "Lai ghép tại vị trí 2:\n",
      "Cha 1: [0 1 0 0 0 1 0]\n",
      "Cha 2: [0 1 1 1 1 1 1]\n",
      "Con 1: [0 1 1 1 1 1 1]\n",
      "Con 2: [0 1 0 0 0 1 0]\n",
      "\n",
      "Các cá thể con được sinh ra:\n",
      "[0 1 1 1 1 1 1] Fitness: 6\n",
      "[0 1 0 0 0 1 0] Fitness: 2\n",
      "\n",
      "Các cá thể con sau khi đột biến:\n",
      "[0 1 1 0 1 1 1] Fitness: 5\n",
      "[1 1 0 0 0 1 0] Fitness: 3\n"
     ]
    }
   ],
   "source": [
    "np.random.seed(42)\n",
    "pops = initialize_pop()\n",
    "print(\"Quần thể ban đầu:\")\n",
    "for ind in pops:\n",
    "    print(ind, \"Fitness:\", fitness(ind))\n",
    "\n",
    "winners = tournament_selection(pops, num_selections=3)\n",
    "print(\"\\nCác cá thể được chọn (winners):\")\n",
    "for w in winners:\n",
    "    print(w, \"Fitness:\", fitness(w))\n",
    "idxs = np.random.choice(len(winners), 2, replace=False)\n",
    "par1, par2 = winners[idxs[0]], winners[idxs[1]]\n",
    "child1, child2, pos = crossover(par1, par2)\n",
    "print(f\"\\nLai ghép tại vị trí {pos}:\")\n",
    "print(\"Cha 1:\", par1)\n",
    "print(\"Cha 2:\", par2)\n",
    "print(\"Con 1:\", child1)\n",
    "print(\"Con 2:\", child2)\n",
    "print(\"\\nCác cá thể con được sinh ra:\")\n",
    "print(child1, \"Fitness:\", fitness(child1))\n",
    "print(child2, \"Fitness:\", fitness(child2))\n",
    "\n",
    "mutated1 = mutate(child1.copy())\n",
    "mutated2 = mutate(child2.copy())\n",
    "print(\"\\nCác cá thể con sau khi đột biến:\")\n",
    "print(mutated1, \"Fitness:\", fitness(mutated1))\n",
    "print(mutated2, \"Fitness:\", fitness(mutated2))"
   ]
  },
  {
   "cell_type": "code",
   "execution_count": null,
   "id": "4a89cb9f",
   "metadata": {},
   "outputs": [],
   "source": []
  }
 ],
 "metadata": {
  "kernelspec": {
   "display_name": "Python 3",
   "language": "python",
   "name": "python3"
  },
  "language_info": {
   "codemirror_mode": {
    "name": "ipython",
    "version": 3
   },
   "file_extension": ".py",
   "mimetype": "text/x-python",
   "name": "python",
   "nbconvert_exporter": "python",
   "pygments_lexer": "ipython3",
   "version": "3.11.7"
  }
 },
 "nbformat": 4,
 "nbformat_minor": 5
}
