{
 "cells": [
  {
   "cell_type": "markdown",
   "id": "b20ae5f8",
   "metadata": {},
   "source": [
    "## Bài 6: Genetic Programming (GP)"
   ]
  },
  {
   "cell_type": "markdown",
   "id": "0dcf91dd",
   "metadata": {},
   "source": [
    "### Cài đặt thuật toán tìm biểu thức gần đúng hàm f(x)=x^2+sin⁡(x)"
   ]
  },
  {
   "cell_type": "code",
   "execution_count": 3,
   "id": "681562db",
   "metadata": {},
   "outputs": [],
   "source": [
    "import operator, math, random\n",
    "import numpy as np\n",
    "funcs = [operator.add, operator.sub, operator.mul]\n",
    "unary_funcs = [math.sin, math.cos]\n",
    "terminals = [\"x\"]\n",
    "class Node:\n",
    "    def __init__(self, func=None, children=None, value=None):\n",
    "        self.func = func\n",
    "        self.children = children or []\n",
    "        self.value = value\n",
    "    def eval(self, x):\n",
    "        if self.value is not None:\n",
    "            if self.value == \"x\":\n",
    "                return x\n",
    "            return self.value\n",
    "        elif self.func in funcs:\n",
    "            return self.func(self.children[0].eval(x), self.children[1].eval(x))\n",
    "        else:\n",
    "            return self.func(self.children[0].eval(x))\n",
    "    \n",
    "    def copy(self):\n",
    "        if self.value is not None:\n",
    "            return Node(value=self.value)\n",
    "        return Node(self.func, [c.copy() for c in self.children])\n",
    "def generate_tree(depth=3):\n",
    "    if depth == 0 or (random.random() < 0.3):\n",
    "        if random.random() < 0.7:\n",
    "            return Node(value=\"x\")\n",
    "        else:\n",
    "            return Node(value=random.uniform(-2, 2))\n",
    "    if random.random() < 0.5:\n",
    "        f = random.choice(funcs)\n",
    "        return Node(f, [generate_tree(depth-1), generate_tree(depth-1)])\n",
    "    else:\n",
    "        f = random.choice(unary_funcs)\n",
    "        return Node(f, [generate_tree(depth-1)])\n",
    "\n",
    "\n",
    "def fitness(tree, xs, target_fn):\n",
    "    preds = [tree.eval(x) for x in xs]\n",
    "    target = [target_fn(x) for x in xs]\n",
    "    return np.mean((np.array(preds) - np.array(target))**2)\n",
    "\n",
    "\n",
    "def crossover(t1, t2):\n",
    "    child1, child2 = t1.copy(), t2.copy()\n",
    "    if not child1.children or not child2.children:\n",
    "        return child1, child2\n",
    "\n",
    "    i = random.randrange(len(child1.children))\n",
    "    j = random.randrange(len(child2.children))\n",
    "\n",
    "    child1.children[i], child2.children[j] = child2.children[j].copy(\n",
    "    ), child1.children[i].copy()\n",
    "    return child1, child2\n",
    "\n",
    "\n",
    "def mutate(tree):\n",
    "    if random.random() < 0.2:\n",
    "        return generate_tree(2)\n",
    "    if tree.children:\n",
    "        tree.children = [mutate(c) for c in tree.children]\n",
    "    return tree\n",
    "\n",
    "\n",
    "def f(x):\n",
    "    return x**2 + math.sin(x)\n",
    "\n",
    "\n",
    "def GP(pop_size=30, gens=20):\n",
    "    xs = np.linspace(-2, 2, 20)\n",
    "    pop = [generate_tree(3) for _ in range(pop_size)]\n",
    "    for g in range(gens):\n",
    "        fits = [fitness(ind, xs, f) for ind in pop]\n",
    "        best_idx = np.argmin(fits)\n",
    "        print(f\"Gen {g+1}, Best Fitness: {fits[best_idx]:.6f}\")\n",
    "        best = pop[best_idx]\n",
    "        new_pop = [best.copy()]\n",
    "        while len(new_pop) < pop_size:\n",
    "            i1, i2 = random.sample(range(pop_size), 2)\n",
    "            p1 = pop[i1] if fits[i1] < fits[i2] else pop[i2]\n",
    "            i3, i4 = random.sample(range(pop_size), 2)\n",
    "            p2 = pop[i3] if fits[i3] < fits[i4] else pop[i4]\n",
    "            c1, c2 = crossover(p1, p2)\n",
    "            new_pop.extend([mutate(c1), mutate(c2)])\n",
    "        pop = new_pop[:pop_size]\n",
    "\n",
    "    return best"
   ]
  },
  {
   "cell_type": "code",
   "execution_count": 4,
   "id": "5bc3cda0",
   "metadata": {},
   "outputs": [
    {
     "name": "stdout",
     "output_type": "stream",
     "text": [
      "Gen 1, Best Fitness: 1.242331\n",
      "Gen 2, Best Fitness: 0.241918\n",
      "Gen 3, Best Fitness: 0.241918\n",
      "Gen 4, Best Fitness: 0.241918\n",
      "Gen 5, Best Fitness: 0.241918\n",
      "Gen 6, Best Fitness: 0.241918\n",
      "Gen 7, Best Fitness: 0.241918\n",
      "Gen 8, Best Fitness: 0.241918\n",
      "Gen 9, Best Fitness: 0.241918\n",
      "Gen 10, Best Fitness: 0.094383\n",
      "Gen 11, Best Fitness: 0.094383\n",
      "Gen 12, Best Fitness: 0.094383\n",
      "Gen 13, Best Fitness: 0.094383\n",
      "Gen 14, Best Fitness: 0.094383\n",
      "Gen 15, Best Fitness: 0.094383\n",
      "Gen 16, Best Fitness: 0.094383\n",
      "Gen 17, Best Fitness: 0.094383\n",
      "Gen 18, Best Fitness: 0.094383\n",
      "Gen 19, Best Fitness: 0.000000\n",
      "Gen 20, Best Fitness: 0.000000\n",
      "\n",
      "Best tree approximates f(x) = x^2 + sin(x)\n"
     ]
    }
   ],
   "source": [
    "best_tree = GP()\n",
    "print(\"\\nBest tree approximates f(x) = x^2 + sin(x)\")"
   ]
  },
  {
   "cell_type": "code",
   "execution_count": null,
   "id": "911e1a85",
   "metadata": {},
   "outputs": [],
   "source": []
  }
 ],
 "metadata": {
  "kernelspec": {
   "display_name": "Python 3",
   "language": "python",
   "name": "python3"
  },
  "language_info": {
   "codemirror_mode": {
    "name": "ipython",
    "version": 3
   },
   "file_extension": ".py",
   "mimetype": "text/x-python",
   "name": "python",
   "nbconvert_exporter": "python",
   "pygments_lexer": "ipython3",
   "version": "3.11.7"
  }
 },
 "nbformat": 4,
 "nbformat_minor": 5
}
