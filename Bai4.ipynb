{
 "cells": [
  {
   "cell_type": "markdown",
   "id": "05a37583",
   "metadata": {},
   "source": [
    "## Bài 4: ES"
   ]
  },
  {
   "cell_type": "markdown",
   "id": "b7b2a0bf",
   "metadata": {},
   "source": [
    "### ES cho bài toán Sphere"
   ]
  },
  {
   "cell_type": "code",
   "execution_count": 1,
   "id": "325a8af7",
   "metadata": {},
   "outputs": [],
   "source": [
    "import numpy as np\n",
    "import random\n",
    "import math"
   ]
  },
  {
   "cell_type": "code",
   "execution_count": 2,
   "id": "9d75ada2",
   "metadata": {},
   "outputs": [],
   "source": [
    "def sphere(x):\n",
    "    return np.sum(x * x)\n",
    "\n",
    "def initialize_population(mu, n_dim, bounds, init_sigma, rng):\n",
    "    low, high = bounds\n",
    "    X = rng.uniform(low, high, size=(mu, n_dim))\n",
    "    Sig = np.full((mu, n_dim), init_sigma, dtype=float)\n",
    "    return X, Sig\n",
    "\n",
    "def recombine(X, Sig):\n",
    "    x_mean = np.mean(X, axis=0)\n",
    "    sigma_mean = np.exp(np.mean(np.log(Sig), axis=0))\n",
    "    return x_mean, sigma_mean\n",
    "\n",
    "\n",
    "def mutate(x_mean, sigma_mean, lam, bounds, tau, tau_prime, rng, sigma_min=1e-12):\n",
    "    low, high = bounds\n",
    "    n = len(x_mean)\n",
    "\n",
    "    children_X = np.empty((lam, n))\n",
    "    children_S = np.empty((lam, n))\n",
    "\n",
    "    for k in range(lam):\n",
    "        N_global = rng.normal()\n",
    "        N_local = rng.normal(size=n)\n",
    "        sigma_child = sigma_mean * np.exp(tau_prime * N_global + tau * N_local)\n",
    "        sigma_child = np.clip(sigma_child, sigma_min, None)\n",
    "\n",
    "        x_child = x_mean + sigma_child * rng.normal(size=n)\n",
    "        x_child = np.clip(x_child, low, high)\n",
    "\n",
    "        children_X[k] = x_child\n",
    "        children_S[k] = sigma_child\n",
    "\n",
    "    return children_X, children_S\n",
    "\n",
    "def select(X, Sig, fitness, children_X, children_S, children_fit, mu, variant):\n",
    "    if variant == \"comma\":\n",
    "        sel = np.argsort(children_fit)[:mu]\n",
    "        return children_X[sel], children_S[sel], children_fit[sel]\n",
    "    elif variant == \"plus\":\n",
    "        X_stack = np.vstack([X, children_X])\n",
    "        S_stack = np.vstack([Sig, children_S])\n",
    "        f_stack = np.concatenate([fitness, children_fit])\n",
    "        sel = np.argsort(f_stack)[:mu]\n",
    "        return X_stack[sel], S_stack[sel], f_stack[sel]\n",
    "    else:\n",
    "        raise ValueError(\"variant phải là 'comma' hoặc 'plus'.\")\n",
    "\n",
    "def es_optimize(\n",
    "    f,\n",
    "    n_dim=20,\n",
    "    mu=10,\n",
    "    lam=70,\n",
    "    variant=\"comma\",\n",
    "    bounds=(-5.0, 5.0),\n",
    "    max_evals=1000,\n",
    "    target_f=1e-10,\n",
    "    seed=42,\n",
    "    init_sigma=0.3,\n",
    "    verbose_every=0,\n",
    "):\n",
    "    rng = np.random.default_rng(seed)\n",
    "    tau_prime = 1.0 / np.sqrt(2.0 * n_dim)\n",
    "    tau = 1.0 / np.sqrt(2.0 * np.sqrt(n_dim))\n",
    "    X, Sig = initialize_population(mu, n_dim, bounds, init_sigma, rng)\n",
    "    fitness = np.array([f(x) for x in X])\n",
    "    evals = mu\n",
    "    best_idx = int(np.argmin(fitness))\n",
    "    best_x = X[best_idx].copy()\n",
    "    best_f = float(fitness[best_idx])\n",
    "    history = [best_f]\n",
    "    while evals < max_evals and best_f > target_f:\n",
    "        order = np.argsort(fitness)\n",
    "        X, Sig, fitness = X[order], Sig[order], fitness[order]\n",
    "        x_mean, sigma_mean = recombine(X, Sig)\n",
    "        children_X, children_S = mutate(\n",
    "            x_mean, sigma_mean, lam, bounds, tau, tau_prime, rng)\n",
    "        children_fit = np.array([f(xc) for xc in children_X])\n",
    "        evals += lam\n",
    "        X, Sig, fitness = select(\n",
    "            X, Sig, fitness, children_X, children_S, children_fit, mu, variant)\n",
    "        idx = int(np.argmin(fitness))\n",
    "        if fitness[idx] < best_f:\n",
    "            best_f = float(fitness[idx])\n",
    "            best_x = X[idx].copy()\n",
    "\n",
    "        history.append(best_f)\n",
    "\n",
    "        if verbose_every and evals % verbose_every == 0:\n",
    "            print(f\"evals={evals:7d}  best_f={best_f:.3e}\")\n",
    "    return best_x, best_f, history"
   ]
  },
  {
   "cell_type": "code",
   "execution_count": 3,
   "id": "5c7a9e3b",
   "metadata": {},
   "outputs": [
    {
     "name": "stdout",
     "output_type": "stream",
     "text": [
      "== (μ, λ)-ES trên Sphere ==\n",
      "(μ,λ)-ES: best_f = 1.180e+00\n",
      "\n",
      "== (μ + λ)-ES trên Sphere ==\n",
      "(μ+λ)-ES: best_f = 9.706e-01\n"
     ]
    }
   ],
   "source": [
    "if __name__ == \"__main__\":\n",
    "    mu, lam, n_dim = 10, 70, 30\n",
    "\n",
    "    print(\"== (μ, λ)-ES trên Sphere ==\")\n",
    "    bx, bf, hist = es_optimize(\n",
    "        sphere, n_dim=n_dim, mu=mu, lam=lam, variant=\"comma\")\n",
    "    print(f\"(μ,λ)-ES: best_f = {bf:.3e}\")\n",
    "\n",
    "    print(\"\\n== (μ + λ)-ES trên Sphere ==\")\n",
    "    bx2, bf2, hist2 = es_optimize(\n",
    "        sphere, n_dim=n_dim, mu=mu, lam=lam, variant=\"plus\")\n",
    "    print(f\"(μ+λ)-ES: best_f = {bf2:.3e}\")"
   ]
  },
  {
   "cell_type": "code",
   "execution_count": null,
   "id": "e6b1e5e4",
   "metadata": {},
   "outputs": [],
   "source": []
  }
 ],
 "metadata": {
  "kernelspec": {
   "display_name": "Python 3",
   "language": "python",
   "name": "python3"
  },
  "language_info": {
   "codemirror_mode": {
    "name": "ipython",
    "version": 3
   },
   "file_extension": ".py",
   "mimetype": "text/x-python",
   "name": "python",
   "nbconvert_exporter": "python",
   "pygments_lexer": "ipython3",
   "version": "3.11.7"
  }
 },
 "nbformat": 4,
 "nbformat_minor": 5
}
