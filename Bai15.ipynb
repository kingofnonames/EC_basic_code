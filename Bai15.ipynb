{
 "cells": [
  {
   "cell_type": "markdown",
   "id": "df0eab0d",
   "metadata": {},
   "source": [
    "## Bài 15: EC với bài toán Đa nhiệm (MFO)"
   ]
  },
  {
   "cell_type": "markdown",
   "id": "23c818ac",
   "metadata": {},
   "source": [
    "### Cài đặt EC đa nhiệm cho 2 bài toán TSP nhỏ"
   ]
  },
  {
   "cell_type": "code",
   "execution_count": 4,
   "id": "895031d7",
   "metadata": {},
   "outputs": [],
   "source": [
    "import numpy as np\n",
    "import random\n",
    "random.seed(42)"
   ]
  },
  {
   "cell_type": "code",
   "execution_count": 29,
   "id": "680d71bc",
   "metadata": {},
   "outputs": [],
   "source": [
    "def distance_matrix(coords):\n",
    "    n = len(coords)\n",
    "    dmat = np.zeros((n, n))\n",
    "    for i in range(n):\n",
    "        for j in range(i + 1, n):\n",
    "            d = np.linalg.norm(np.array(coords[i]) - np.array(coords[j]))\n",
    "            dmat[i, j] = dmat[j, i] = d\n",
    "    return dmat\n",
    "\n",
    "\n",
    "def tour_length(tour, dmat):\n",
    "    return sum(dmat[tour[i], tour[(i+1) % len(tour)]] for i in range(len(tour)))\n",
    "\n",
    "\n",
    "def crossover_ox(p1, p2):\n",
    "    size = len(p1)\n",
    "    a, b = sorted(random.sample(range(size), 2))\n",
    "    child = [-1] * size\n",
    "    child[a:b] = p1[a:b]\n",
    "    fill = [x for x in p2 if x not in child]\n",
    "    pos = 0\n",
    "    for i in range(size):\n",
    "        if child[i] == -1:\n",
    "            child[i] = fill[pos]\n",
    "            pos += 1\n",
    "    return child\n",
    "\n",
    "def mutate_swap(tour):\n",
    "    a, b = random.sample(range(len(tour)), 2)\n",
    "    tour[a], tour[b] = tour[b], tour[a]\n",
    "    return tour\n",
    "\n",
    "\n",
    "def mfea_tsp(coords_list, pop_size=30, gens=200):\n",
    "    max_n = max(len(c) for c in coords_list)\n",
    "    dmats = [distance_matrix(c) for c in coords_list]\n",
    "    num_tasks = len(coords_list)\n",
    "    population = []\n",
    "    skill_factors = []\n",
    "    for _ in range(pop_size):\n",
    "        perm = list(range(max_n))\n",
    "        random.shuffle(perm)\n",
    "        population.append(perm)\n",
    "        skill_factors.append(random.randint(0, num_tasks-1))\n",
    "    def evaluate(ind, task):\n",
    "        n = len(coords_list[task])\n",
    "        sub_tour = [x for x in ind if x < n]\n",
    "        return tour_length(sub_tour, dmats[task])\n",
    "    for g in range(gens):\n",
    "        offspring = []\n",
    "        offspring_sf = []\n",
    "        for _ in range(pop_size // 2):\n",
    "            i, j = random.sample(range(pop_size), 2)\n",
    "            p1, p2 = population[i], population[j]\n",
    "            sf1, sf2 = skill_factors[i], skill_factors[j]\n",
    "            c1 = crossover_ox(p1, p2)\n",
    "            c2 = crossover_ox(p2, p1)\n",
    "            if random.random() < 0.3:\n",
    "                c1 = mutate_swap(c1)\n",
    "            if random.random() < 0.3:\n",
    "                c2 = mutate_swap(c2)\n",
    "            offspring.extend([c1, c2])\n",
    "            offspring_sf.extend(\n",
    "                [random.choice([sf1, sf2]), random.choice([sf1, sf2])])\n",
    "        population.extend(offspring)\n",
    "        skill_factors.extend(offspring_sf)\n",
    "        new_pop, new_sf = [], []\n",
    "        for task in range(num_tasks):\n",
    "            inds = [ind for ind, sf in zip(\n",
    "                population, skill_factors) if sf == task]\n",
    "            if not inds:\n",
    "                continue\n",
    "            inds.sort(key=lambda ind: evaluate(ind, task))\n",
    "            top = inds[:pop_size // num_tasks]\n",
    "            new_pop.extend(top)\n",
    "            new_sf.extend([task] * len(top))\n",
    "        while len(new_pop) < pop_size:\n",
    "            i = random.randrange(len(population))\n",
    "            new_pop.append(population[i])\n",
    "            new_sf.append(skill_factors[i])\n",
    "        population, skill_factors = new_pop, new_sf\n",
    "\n",
    "        if g % 50 == 0:\n",
    "            bests = [min([evaluate(ind, t) for ind, sf in zip(\n",
    "                population, skill_factors) if sf == t]) for t in range(num_tasks)]\n",
    "            print(f\"Gen {g}: Best = {bests}\")\n",
    "    results = []\n",
    "    for t in range(num_tasks):\n",
    "        best_ind = min(population, key=lambda ind: evaluate(ind, t))\n",
    "        n = len(coords_list[t])\n",
    "        sub_tour = [x for x in best_ind if x < n]\n",
    "        results.append((sub_tour, evaluate(best_ind, t)))\n",
    "    return results"
   ]
  },
  {
   "cell_type": "code",
   "execution_count": 30,
   "id": "14162ae3",
   "metadata": {},
   "outputs": [
    {
     "name": "stdout",
     "output_type": "stream",
     "text": [
      "Gen 0: Best = [np.float64(763.3399583653276), np.float64(1283.6361922896463)]\n",
      "Gen 50: Best = [np.float64(473.17634149744634), np.float64(828.0761731039281)]\n",
      "Gen 100: Best = [np.float64(456.9802268872078), np.float64(729.6306731858375)]\n",
      "Gen 150: Best = [np.float64(435.49313912735676), np.float64(632.2802955443847)]\n",
      "TSP 20: length=432.49, tour=[14, 11, 7, 16, 13, 17, 2, 19, 4, 5, 12, 1, 8, 3, 6, 9, 18, 0, 10, 15]\n",
      "TSP 25: length=591.78, tour=[7, 13, 11, 4, 24, 20, 2, 17, 19, 22, 3, 14, 9, 15, 18, 0, 8, 16, 5, 10, 1, 6, 23, 21, 12]\n"
     ]
    }
   ],
   "source": [
    "coords1 = [(random.random()*100, random.random()*100) for _ in range(20)]\n",
    "coords2 = [(random.random()*100, random.random()*100) for _ in range(25)]\n",
    "\n",
    "solutions = mfea_tsp([coords1, coords2])\n",
    "for i, (tour, length) in enumerate(solutions):\n",
    "    print(f\"TSP {len(tour)}: length={length:.2f}, tour={tour}\")"
   ]
  },
  {
   "cell_type": "code",
   "execution_count": null,
   "id": "2f3137e4",
   "metadata": {},
   "outputs": [],
   "source": []
  }
 ],
 "metadata": {
  "kernelspec": {
   "display_name": "Python 3",
   "language": "python",
   "name": "python3"
  },
  "language_info": {
   "codemirror_mode": {
    "name": "ipython",
    "version": 3
   },
   "file_extension": ".py",
   "mimetype": "text/x-python",
   "name": "python",
   "nbconvert_exporter": "python",
   "pygments_lexer": "ipython3",
   "version": "3.11.7"
  }
 },
 "nbformat": 4,
 "nbformat_minor": 5
}
