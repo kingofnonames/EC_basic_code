{
 "cells": [
  {
   "cell_type": "markdown",
   "id": "aec5b472",
   "metadata": {},
   "source": [
    "## Bài 5: DE"
   ]
  },
  {
   "cell_type": "markdown",
   "id": "50f19785",
   "metadata": {},
   "source": [
    "### DE cho bài toán Sphere"
   ]
  },
  {
   "cell_type": "code",
   "execution_count": 1,
   "id": "f3a0f2bd",
   "metadata": {},
   "outputs": [],
   "source": [
    "import numpy as np\n",
    "\n",
    "def sphere(x):\n",
    "    return np.sum(x**2)\n",
    "\n",
    "def differential_evolution(dim=5, pop_size=20, F=0.8, CR=0.9, generations=50, bounds=(-5,5)):\n",
    "    pop = np.random.uniform(bounds[0], bounds[1], (pop_size, dim))\n",
    "    best = None\n",
    "    best_fit = float(\"inf\")\n",
    "    for g in range(generations):\n",
    "        new_pop = []\n",
    "        for i in range(pop_size):\n",
    "            idxs = np.random.choice(\n",
    "                [j for j in range(pop_size) if j != i], 3, replace=False)\n",
    "            a, b, c = pop[idxs]\n",
    "            v = np.clip(a + F * (b - c), bounds[0], bounds[1])\n",
    "            u = np.array([v[j] if np.random.rand() < CR else pop[i][j]\n",
    "                         for j in range(dim)])\n",
    "            if sphere(u) < sphere(pop[i]):\n",
    "                new_pop.append(u)\n",
    "            else:\n",
    "                new_pop.append(pop[i])\n",
    "        pop = np.array(new_pop)\n",
    "        fits = [sphere(ind) for ind in pop]\n",
    "        gen_best = np.min(fits)\n",
    "        if gen_best < best_fit:\n",
    "            best_fit = gen_best\n",
    "            best = pop[np.argmin(fits)]\n",
    "        print(f\"Gen {g+1}: best = {best_fit:.6f}\")\n",
    "\n",
    "    return best, best_fit"
   ]
  },
  {
   "cell_type": "code",
   "execution_count": 2,
   "id": "66d49bc0",
   "metadata": {},
   "outputs": [
    {
     "name": "stdout",
     "output_type": "stream",
     "text": [
      "Gen 1: best = 5.701834\n",
      "Gen 2: best = 5.701834\n",
      "Gen 3: best = 5.701834\n",
      "Gen 4: best = 5.701834\n",
      "Gen 5: best = 5.701834\n",
      "Gen 6: best = 5.701834\n",
      "Gen 7: best = 4.035149\n",
      "Gen 8: best = 4.035149\n",
      "Gen 9: best = 4.035149\n",
      "Gen 10: best = 4.035149\n",
      "Gen 11: best = 4.035149\n",
      "Gen 12: best = 4.035149\n",
      "Gen 13: best = 2.031048\n",
      "Gen 14: best = 2.031048\n",
      "Gen 15: best = 1.963410\n",
      "Gen 16: best = 1.963410\n",
      "Gen 17: best = 1.883258\n",
      "Gen 18: best = 1.883258\n",
      "Gen 19: best = 1.883258\n",
      "Gen 20: best = 1.883258\n",
      "Gen 21: best = 1.883258\n",
      "Gen 22: best = 1.836033\n",
      "Gen 23: best = 1.836033\n",
      "Gen 24: best = 1.050867\n",
      "Gen 25: best = 1.050867\n",
      "Gen 26: best = 1.050867\n",
      "Gen 27: best = 1.050867\n",
      "Gen 28: best = 0.720932\n",
      "Gen 29: best = 0.720932\n",
      "Gen 30: best = 0.358926\n",
      "Gen 31: best = 0.358926\n",
      "Gen 32: best = 0.358926\n",
      "Gen 33: best = 0.358926\n",
      "Gen 34: best = 0.338253\n",
      "Gen 35: best = 0.338253\n",
      "Gen 36: best = 0.124915\n",
      "Gen 37: best = 0.124915\n",
      "Gen 38: best = 0.124915\n",
      "Gen 39: best = 0.124915\n",
      "Gen 40: best = 0.124915\n",
      "Gen 41: best = 0.124915\n",
      "Gen 42: best = 0.124915\n",
      "Gen 43: best = 0.038752\n",
      "Gen 44: best = 0.038752\n",
      "Gen 45: best = 0.038752\n",
      "Gen 46: best = 0.038752\n",
      "Gen 47: best = 0.038752\n",
      "Gen 48: best = 0.038752\n",
      "Gen 49: best = 0.038752\n",
      "Gen 50: best = 0.038752\n",
      "\n",
      "Best solution: [ 0.04736741  0.12946408  0.10717168 -0.08934455 -0.01669745]\n",
      "Best fitness: 0.03875164167060449\n"
     ]
    }
   ],
   "source": [
    "best_sol, best_fit = differential_evolution()\n",
    "print(\"\\nBest solution:\", best_sol)\n",
    "print(\"Best fitness:\", best_fit)"
   ]
  },
  {
   "cell_type": "code",
   "execution_count": null,
   "id": "4ffb6df0",
   "metadata": {},
   "outputs": [],
   "source": []
  }
 ],
 "metadata": {
  "kernelspec": {
   "display_name": "Python 3",
   "language": "python",
   "name": "python3"
  },
  "language_info": {
   "codemirror_mode": {
    "name": "ipython",
    "version": 3
   },
   "file_extension": ".py",
   "mimetype": "text/x-python",
   "name": "python",
   "nbconvert_exporter": "python",
   "pygments_lexer": "ipython3",
   "version": "3.11.7"
  }
 },
 "nbformat": 4,
 "nbformat_minor": 5
}
